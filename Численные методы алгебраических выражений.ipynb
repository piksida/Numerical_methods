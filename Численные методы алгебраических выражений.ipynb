{
 "cells": [
  {
   "cell_type": "code",
   "execution_count": 1,
   "metadata": {},
   "outputs": [],
   "source": [
    "import numpy as np\n",
    "import matplotlib.pyplot as plt\n",
    "from scipy import optimize\n",
    "from sympy import diff, symbols"
   ]
  },
  {
   "cell_type": "code",
   "execution_count": 2,
   "metadata": {},
   "outputs": [],
   "source": [
    "a = 1.5\n",
    "b = 3.18\n",
    "tol = 10**-3\n",
    "y = lambda x:a*x**3 + b*a*x**2 - a*x - b*a\n",
    "dif = lambda x:4.5*x**2 + 9.54*x - 1.5"
   ]
  },
  {
   "cell_type": "code",
   "execution_count": 3,
   "metadata": {},
   "outputs": [
    {
     "data": {
      "image/png": "[encoded data removed]",
      "text/plain": [
       "<Figure size 432x288 with 1 Axes>"
      ]
     },
     "metadata": {
      "needs_background": "light"
     },
     "output_type": "display_data"
    }
   ],
   "source": [
    "fig = plt.subplots()\n",
    "x = np.linspace(-4, 2, 300)\n",
    "plt.plot(x, y(x))\n",
    "plt.xlabel('x') \n",
    "plt.ylabel('y') \n",
    "  \n",
    "plt.show()"
   ]
  },
  {
   "cell_type": "code",
   "execution_count": 4,
   "metadata": {},
   "outputs": [
    {
     "name": "stdout",
     "output_type": "stream",
     "text": [
      "f`(x) =  4.5*x**2 + 9.54*x - 1.5\n"
     ]
    }
   ],
   "source": [
    "x = symbols('x')\n",
    "print(\"f`(x) = \", diff(a*x**3 + b*a*x**2 - a*x - b*a))\n",
    "extr1 = (-9.54-(9.54**2-4*4.5*-1.5)**(1/2))/(2*4.5)\n",
    "extr2 = (-9.54+(9.54**2-4*4.5*-1.5)**(1/2))/(2*4.5)"
   ]
  },
  {
   "cell_type": "code",
   "execution_count": null,
   "metadata": {},
   "outputs": [],
   "source": []
  },
  {
   "cell_type": "code",
   "execution_count": null,
   "metadata": {},
   "outputs": [],
   "source": []
  },
  {
   "cell_type": "markdown",
   "metadata": {},
   "source": [
    "Из графика видно, что корни уравнения лежат в промежутке X∈(-4;2)\n",
    "f(-4.18)*f(extr1)<0 => X1∈(-4.18;extr1) Найдем X1, используя метод простых итераций\n",
    "f(-2.68)*f(-0.5)<0 => X2∈(-2.68;-0.5)  Найдем X1, используя метод хорд\n",
    "f(extr2)*f(2)<0   => X3∈(extr2;2)   Найдем X1, используя метод Ньютона"
   ]
  },
  {
   "cell_type": "markdown",
   "metadata": {},
   "source": [
    "Метод итераций X1∈(-4.18;extr1)"
   ]
  },
  {
   "cell_type": "code",
   "execution_count": 5,
   "metadata": {},
   "outputs": [],
   "source": [
    "x1 = -4.18\n",
    "x2 = extr1\n",
    "y1 = y(-4.18)\n",
    "y2 = y(extr1)\n",
    "noit = 1\n",
    "arrx = [noit]\n",
    "arry = [x1]\n",
    "k = (y2-y1)/(x2-x1)"
   ]
  },
  {
   "cell_type": "code",
   "execution_count": 6,
   "metadata": {},
   "outputs": [],
   "source": [
    "def root():\n",
    "    r = -y1*(x2-x1)/(y2-y1)+x1\n",
    "    return r"
   ]
  },
  {
   "cell_type": "code",
   "execution_count": 7,
   "metadata": {},
   "outputs": [],
   "source": [
    "x0=root()\n",
    "y0=y(root())\n",
    "l=y0-k*x0"
   ]
  },
  {
   "cell_type": "code",
   "execution_count": 8,
   "metadata": {},
   "outputs": [],
   "source": [
    "def rootnew():\n",
    "    r = -l/k\n",
    "    return r  "
   ]
  },
  {
   "cell_type": "code",
   "execution_count": 9,
   "metadata": {},
   "outputs": [
    {
     "name": "stdout",
     "output_type": "stream",
     "text": [
      "-3.1797411810307734\n",
      "5\n"
     ]
    }
   ],
   "source": [
    "while y(rootnew()+tol)*y(rootnew()-tol)>0:\n",
    "  x0=rootnew()\n",
    "  y0=y(rootnew())\n",
    "  l=y0-k*x0\n",
    "  noit = noit+1\n",
    "  arrx.append(noit)\n",
    "  arry.append(x0)\n",
    "print(rootnew())\n",
    "print(noit)"
   ]
  },
  {
   "cell_type": "code",
   "execution_count": 10,
   "metadata": {},
   "outputs": [
    {
     "data": {
      "image/png": "[encoded data removed]",
      "text/plain": [
       "<Figure size 432x288 with 1 Axes>"
      ]
     },
     "metadata": {
      "needs_background": "light"
     },
     "output_type": "display_data"
    }
   ],
   "source": [
    "np.hstack((arrx, arry))\n",
    "plt.plot(arrx, arry) \n",
    "plt.show()"
   ]
  },
  {
   "cell_type": "markdown",
   "metadata": {},
   "source": [
    "Метод хорд X2∈(-2.68;-0.5)"
   ]
  },
  {
   "cell_type": "code",
   "execution_count": 11,
   "metadata": {},
   "outputs": [],
   "source": [
    "x1 = -2.68\n",
    "x2 = -0.5\n",
    "y1 = y(-2.68)\n",
    "y2 = y(-0.5)\n",
    "arrx = []\n",
    "arry = []\n",
    "noit = 0"
   ]
  },
  {
   "cell_type": "code",
   "execution_count": 12,
   "metadata": {},
   "outputs": [],
   "source": [
    "def rootchord():\n",
    "    r = -y1*(x2-x1)/(y2-y1)+x1\n",
    "    return r"
   ]
  },
  {
   "cell_type": "code",
   "execution_count": 13,
   "metadata": {},
   "outputs": [
    {
     "name": "stdout",
     "output_type": "stream",
     "text": [
      "-1.000776082313331\n",
      "5\n"
     ]
    }
   ],
   "source": [
    "while y(rootchord()+tol)*y(rootchord()-tol)>0:\n",
    "    r=rootchord()\n",
    "    if y1*r<0:\n",
    "        y2=y(r)\n",
    "        x2=r\n",
    "    else:\n",
    "        y2*r<0\n",
    "        y1=y(r)\n",
    "        x1=r\n",
    "    noit = noit+1\n",
    "    arrx.append(noit)\n",
    "    arry.append(r)\n",
    "    rootchord()\n",
    "    \n",
    "print(rootchord())\n",
    "print(noit)"
   ]
  },
  {
   "cell_type": "code",
   "execution_count": 14,
   "metadata": {},
   "outputs": [
    {
     "data": {
      "image/png": "[encoded data removed]",
      "text/plain": [
       "<Figure size 432x288 with 1 Axes>"
      ]
     },
     "metadata": {
      "needs_background": "light"
     },
     "output_type": "display_data"
    }
   ],
   "source": [
    "np.hstack((arrx, arry))\n",
    "plt.plot(arrx, arry) \n",
    "plt.show()"
   ]
  },
  {
   "cell_type": "markdown",
   "metadata": {},
   "source": [
    "Метод Ньютона X3∈(extr2;2)"
   ]
  },
  {
   "cell_type": "code",
   "execution_count": 15,
   "metadata": {},
   "outputs": [
    {
     "name": "stdout",
     "output_type": "stream",
     "text": [
      "1.0000054947277626\n",
      "4\n"
     ]
    }
   ],
   "source": [
    "x=2\n",
    "noit=0\n",
    "arrx = [noit]\n",
    "arry = [x]\n",
    "arrx.append(noit)\n",
    "arry.append(x)\n",
    "while y(x+tol)*y(x-tol)>0:\n",
    "    x=x-y(x)/dif(x)\n",
    "    noit=noit+1\n",
    "    arrx.append(noit)\n",
    "    arry.append(x)\n",
    "print(x)\n",
    "print(noit)"
   ]
  },
  {
   "cell_type": "code",
   "execution_count": 16,
   "metadata": {},
   "outputs": [
    {
     "data": {
      "image/png": "[encoded data removed]",
      "text/plain": [
       "<Figure size 432x288 with 1 Axes>"
      ]
     },
     "metadata": {
      "needs_background": "light"
     },
     "output_type": "display_data"
    }
   ],
   "source": [
    "np.hstack((arrx, arry))\n",
    "plt.plot(arrx, arry) \n",
    "plt.show()"
   ]
  },
  {
   "cell_type": "code",
   "execution_count": null,
   "metadata": {},
   "outputs": [],
   "source": []
  }
 ],
 "metadata": {
  "kernelspec": {
   "display_name": "Python 3",
   "language": "python",
   "name": "python3"
  },
  "language_info": {
   "codemirror_mode": {
    "name": "ipython",
    "version": 3
   },
   "file_extension": ".py",
   "mimetype": "text/x-python",
   "name": "python",
   "nbconvert_exporter": "python",
   "pygments_lexer": "ipython3",
   "version": "3.7.6"
  }
 },
 "nbformat": 4,
 "nbformat_minor": 4
}
